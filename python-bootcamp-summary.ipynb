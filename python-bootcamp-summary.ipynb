{
 "cells": [
  {
   "cell_type": "markdown",
   "id": "f2c7c0cb",
   "metadata": {},
   "source": [
    "## Get the type of an variable: `type(1)`"
   ]
  },
  {
   "cell_type": "code",
   "execution_count": 1,
   "id": "ae4357a5",
   "metadata": {},
   "outputs": [
    {
     "data": {
      "text/plain": [
       "int"
      ]
     },
     "execution_count": 1,
     "metadata": {},
     "output_type": "execute_result"
    }
   ],
   "source": [
    "type(1)"
   ]
  },
  {
   "cell_type": "code",
   "execution_count": 6,
   "id": "b347a27c",
   "metadata": {},
   "outputs": [
    {
     "data": {
      "text/plain": [
       "float"
      ]
     },
     "execution_count": 6,
     "metadata": {},
     "output_type": "execute_result"
    }
   ],
   "source": [
    "type(1.2)"
   ]
  },
  {
   "cell_type": "code",
   "execution_count": 3,
   "id": "b3bb12ce",
   "metadata": {},
   "outputs": [
    {
     "data": {
      "text/plain": [
       "str"
      ]
     },
     "execution_count": 3,
     "metadata": {},
     "output_type": "execute_result"
    }
   ],
   "source": [
    "type('hello')"
   ]
  },
  {
   "cell_type": "code",
   "execution_count": 4,
   "id": "94aa3ead",
   "metadata": {
    "scrolled": true
   },
   "outputs": [
    {
     "data": {
      "text/plain": [
       "list"
      ]
     },
     "execution_count": 4,
     "metadata": {},
     "output_type": "execute_result"
    }
   ],
   "source": [
    "type([])"
   ]
  },
  {
   "cell_type": "code",
   "execution_count": 51,
   "id": "2a6b1952",
   "metadata": {},
   "outputs": [
    {
     "data": {
      "text/plain": [
       "NoneType"
      ]
     },
     "execution_count": 51,
     "metadata": {},
     "output_type": "execute_result"
    }
   ],
   "source": [
    "type(None)"
   ]
  },
  {
   "cell_type": "markdown",
   "id": "e6b1d697",
   "metadata": {},
   "source": [
    "## Strings are immutable"
   ]
  },
  {
   "cell_type": "code",
   "execution_count": 11,
   "id": "37ab413b",
   "metadata": {},
   "outputs": [
    {
     "data": {
      "text/plain": [
       "'Pam'"
      ]
     },
     "execution_count": 11,
     "metadata": {},
     "output_type": "execute_result"
    }
   ],
   "source": [
    "# 'Sam'[0] = 'P' => Error\n",
    "'P' + 'Sam'[1:]"
   ]
  },
  {
   "cell_type": "markdown",
   "id": "b6a38e7b",
   "metadata": {},
   "source": [
    "## String indexing and slicing: `my_string[1:-1:2]`"
   ]
  },
  {
   "cell_type": "code",
   "execution_count": 1,
   "id": "affdcdcb",
   "metadata": {},
   "outputs": [
    {
     "data": {
      "text/plain": [
       "'d'"
      ]
     },
     "execution_count": 1,
     "metadata": {},
     "output_type": "execute_result"
    }
   ],
   "source": [
    "'abcdefg'[3]"
   ]
  },
  {
   "cell_type": "code",
   "execution_count": 8,
   "id": "f496fdcb",
   "metadata": {},
   "outputs": [
    {
     "data": {
      "text/plain": [
       "'bdfhj'"
      ]
     },
     "execution_count": 8,
     "metadata": {},
     "output_type": "execute_result"
    }
   ],
   "source": [
    "'abcdefghijkl'[1:-1:2]"
   ]
  },
  {
   "cell_type": "markdown",
   "id": "833988cb",
   "metadata": {},
   "source": [
    "## Reverse a string: `'hello'[::-1]`"
   ]
  },
  {
   "cell_type": "code",
   "execution_count": 7,
   "id": "c578ebf6",
   "metadata": {},
   "outputs": [
    {
     "data": {
      "text/plain": [
       "'olleh'"
      ]
     },
     "execution_count": 7,
     "metadata": {},
     "output_type": "execute_result"
    }
   ],
   "source": [
    "'hello'[::-1]"
   ]
  },
  {
   "cell_type": "markdown",
   "id": "e397c0f9",
   "metadata": {},
   "source": [
    "## Get the length of an string: `len('hello')`"
   ]
  },
  {
   "cell_type": "code",
   "execution_count": 5,
   "id": "c994090b",
   "metadata": {},
   "outputs": [
    {
     "data": {
      "text/plain": [
       "11"
      ]
     },
     "execution_count": 5,
     "metadata": {},
     "output_type": "execute_result"
    }
   ],
   "source": [
    "len('hello world')"
   ]
  },
  {
   "cell_type": "markdown",
   "id": "39e34129",
   "metadata": {},
   "source": [
    "## Print to console: `print('Hello World')`"
   ]
  },
  {
   "cell_type": "code",
   "execution_count": 1,
   "id": "e04d658d",
   "metadata": {},
   "outputs": [
    {
     "name": "stdout",
     "output_type": "stream",
     "text": [
      "Hello World\n"
     ]
    }
   ],
   "source": [
    "print('Hello World')"
   ]
  },
  {
   "cell_type": "markdown",
   "id": "b47cee07",
   "metadata": {},
   "source": [
    "## String formatting: `'{}'.format('')`"
   ]
  },
  {
   "cell_type": "code",
   "execution_count": 3,
   "id": "53e1023b",
   "metadata": {},
   "outputs": [
    {
     "name": "stdout",
     "output_type": "stream",
     "text": [
      "The quick brown fox, fox\n"
     ]
    }
   ],
   "source": [
    "print('The {2} {1} {0}, {0}'.format('fox', 'brown', 'quick'))"
   ]
  },
  {
   "cell_type": "code",
   "execution_count": 5,
   "id": "d2dec804",
   "metadata": {},
   "outputs": [
    {
     "name": "stdout",
     "output_type": "stream",
     "text": [
      "The quick brown fox, fox\n"
     ]
    }
   ],
   "source": [
    "print('The {q} {b} {f}, {f}'.format(f='fox', b='brown', q='quick'))"
   ]
  },
  {
   "cell_type": "markdown",
   "id": "91d5bc1c",
   "metadata": {},
   "source": [
    "## Float formatting `{value:width.percicision f}`"
   ]
  },
  {
   "cell_type": "code",
   "execution_count": 14,
   "id": "881c8e46",
   "metadata": {},
   "outputs": [
    {
     "name": "stdout",
     "output_type": "stream",
     "text": [
      "the result was 222.129\n"
     ]
    }
   ],
   "source": [
    "result = (100/777) + 222\n",
    "print('the result was {r:.3f}'.format(r=result))"
   ]
  },
  {
   "cell_type": "markdown",
   "id": "2e15aa27",
   "metadata": {},
   "source": [
    "## String formatting: `f'{}'`"
   ]
  },
  {
   "cell_type": "code",
   "execution_count": 16,
   "id": "88fc3c40",
   "metadata": {},
   "outputs": [
    {
     "name": "stdout",
     "output_type": "stream",
     "text": [
      "Hello, this is Fox\n"
     ]
    }
   ],
   "source": [
    "name = 'Fox'\n",
    "print(f'Hello, this is {name}')"
   ]
  },
  {
   "cell_type": "code",
   "execution_count": 20,
   "id": "49f1eb13",
   "metadata": {},
   "outputs": [
    {
     "name": "stdout",
     "output_type": "stream",
     "text": [
      "The value is 345.12\n"
     ]
    }
   ],
   "source": [
    "num = 345.1234993073930\n",
    "print(f'The value is {num:.2f}')"
   ]
  },
  {
   "cell_type": "markdown",
   "id": "678c8953",
   "metadata": {},
   "source": [
    "## Lists `[1, 'two']`"
   ]
  },
  {
   "cell_type": "code",
   "execution_count": 23,
   "id": "bb59d570",
   "metadata": {},
   "outputs": [],
   "source": [
    "my_list = [1, 'two']"
   ]
  },
  {
   "cell_type": "markdown",
   "id": "b821cec3",
   "metadata": {},
   "source": [
    "### Get list size: `len([1,2])`"
   ]
  },
  {
   "cell_type": "code",
   "execution_count": 24,
   "id": "774ec6ef",
   "metadata": {},
   "outputs": [
    {
     "data": {
      "text/plain": [
       "2"
      ]
     },
     "execution_count": 24,
     "metadata": {},
     "output_type": "execute_result"
    }
   ],
   "source": [
    "len([1, 'two'])"
   ]
  },
  {
   "cell_type": "markdown",
   "id": "a5a48c8b",
   "metadata": {},
   "source": [
    "### List access and slicing: `<list>[1:]`"
   ]
  },
  {
   "cell_type": "code",
   "execution_count": 58,
   "id": "1ed72f57",
   "metadata": {},
   "outputs": [
    {
     "data": {
      "text/plain": [
       "'arm'"
      ]
     },
     "execution_count": 58,
     "metadata": {},
     "output_type": "execute_result"
    }
   ],
   "source": [
    "['hand', 'foot', 'arm'][2]"
   ]
  },
  {
   "cell_type": "code",
   "execution_count": 37,
   "id": "25c1fb4b",
   "metadata": {},
   "outputs": [
    {
     "data": {
      "text/plain": [
       "['three', 'four', 'five']"
      ]
     },
     "execution_count": 37,
     "metadata": {},
     "output_type": "execute_result"
    }
   ],
   "source": [
    "['one', 'two', 'three', 'four', 'five'][2:]"
   ]
  },
  {
   "cell_type": "markdown",
   "id": "9d3441f5",
   "metadata": {},
   "source": [
    "### List concatenation: `[1,2] + [3, 4]`"
   ]
  },
  {
   "cell_type": "code",
   "execution_count": 35,
   "id": "c5df734e",
   "metadata": {},
   "outputs": [
    {
     "data": {
      "text/plain": [
       "'five'"
      ]
     },
     "execution_count": 35,
     "metadata": {},
     "output_type": "execute_result"
    }
   ],
   "source": [
    "my_list = ['one', 'two', 'three'] + ['four', 'five']\n",
    "my_list[4]"
   ]
  },
  {
   "cell_type": "markdown",
   "id": "1dd14be7",
   "metadata": {},
   "source": [
    "### Mutate a list: `list[idx] = <new value>`"
   ]
  },
  {
   "cell_type": "code",
   "execution_count": 39,
   "id": "4f1950c9",
   "metadata": {},
   "outputs": [
    {
     "data": {
      "text/plain": [
       "['CHANGED', 'two', 'three', 'four', 'five']"
      ]
     },
     "execution_count": 39,
     "metadata": {},
     "output_type": "execute_result"
    }
   ],
   "source": [
    "my_list = ['one', 'two', 'three', 'four', 'five']\n",
    "my_list[0] = 'CHANGED'\n",
    "my_list"
   ]
  },
  {
   "cell_type": "markdown",
   "id": "d1056a93",
   "metadata": {},
   "source": [
    "### List functions: `[].<function>()`"
   ]
  },
  {
   "cell_type": "code",
   "execution_count": 41,
   "id": "d857353a",
   "metadata": {},
   "outputs": [],
   "source": [
    "my_list = ['one', 'two', 'three', 'four', 'five']"
   ]
  },
  {
   "cell_type": "markdown",
   "id": "f9950632",
   "metadata": {},
   "source": [
    "`[].append(<item>)` append item to list"
   ]
  },
  {
   "cell_type": "code",
   "execution_count": 42,
   "id": "0cfbf04a",
   "metadata": {},
   "outputs": [],
   "source": [
    "my_list.append('six')"
   ]
  },
  {
   "cell_type": "code",
   "execution_count": 43,
   "id": "0cd080a4",
   "metadata": {},
   "outputs": [
    {
     "data": {
      "text/plain": [
       "['one', 'two', 'three', 'four', 'five', 'six']"
      ]
     },
     "execution_count": 43,
     "metadata": {},
     "output_type": "execute_result"
    }
   ],
   "source": [
    "my_list"
   ]
  },
  {
   "cell_type": "markdown",
   "id": "6acaffbb",
   "metadata": {},
   "source": [
    "`[].pop()` pops last and returns the item"
   ]
  },
  {
   "cell_type": "code",
   "execution_count": 44,
   "id": "f5f23e59",
   "metadata": {},
   "outputs": [
    {
     "data": {
      "text/plain": [
       "'six'"
      ]
     },
     "execution_count": 44,
     "metadata": {},
     "output_type": "execute_result"
    }
   ],
   "source": [
    "my_list.pop()"
   ]
  },
  {
   "cell_type": "code",
   "execution_count": 45,
   "id": "aa378cbb",
   "metadata": {},
   "outputs": [
    {
     "data": {
      "text/plain": [
       "['one', 'two', 'three', 'four', 'five']"
      ]
     },
     "execution_count": 45,
     "metadata": {},
     "output_type": "execute_result"
    }
   ],
   "source": [
    "my_list"
   ]
  },
  {
   "cell_type": "markdown",
   "id": "f6517ee3",
   "metadata": {},
   "source": [
    "`[].pop(<idx>)` pops the item at the index and returns the item"
   ]
  },
  {
   "cell_type": "code",
   "execution_count": 46,
   "id": "8dcce96d",
   "metadata": {},
   "outputs": [
    {
     "data": {
      "text/plain": [
       "'one'"
      ]
     },
     "execution_count": 46,
     "metadata": {},
     "output_type": "execute_result"
    }
   ],
   "source": [
    "my_list.pop(0)"
   ]
  },
  {
   "cell_type": "code",
   "execution_count": 47,
   "id": "88399845",
   "metadata": {},
   "outputs": [
    {
     "data": {
      "text/plain": [
       "['two', 'three', 'four', 'five']"
      ]
     },
     "execution_count": 47,
     "metadata": {},
     "output_type": "execute_result"
    }
   ],
   "source": [
    "my_list"
   ]
  },
  {
   "cell_type": "code",
   "execution_count": 59,
   "id": "7d8cbc61",
   "metadata": {},
   "outputs": [],
   "source": [
    "num_list = [4, 9, 2, 5, 1]"
   ]
  },
  {
   "cell_type": "markdown",
   "id": "55a35527",
   "metadata": {},
   "source": [
    "`[].sort()` sorts the list in place"
   ]
  },
  {
   "cell_type": "code",
   "execution_count": 60,
   "id": "c2c71012",
   "metadata": {},
   "outputs": [],
   "source": [
    "num_list.sort()"
   ]
  },
  {
   "cell_type": "code",
   "execution_count": 61,
   "id": "b5f700d7",
   "metadata": {},
   "outputs": [
    {
     "data": {
      "text/plain": [
       "[1, 2, 4, 5, 9]"
      ]
     },
     "execution_count": 61,
     "metadata": {},
     "output_type": "execute_result"
    }
   ],
   "source": [
    "num_list"
   ]
  },
  {
   "cell_type": "markdown",
   "id": "90b7969b",
   "metadata": {},
   "source": [
    "`[].reverse()` reverses a list in place"
   ]
  },
  {
   "cell_type": "code",
   "execution_count": 63,
   "id": "5755e753",
   "metadata": {},
   "outputs": [],
   "source": [
    "num_list.reverse()"
   ]
  },
  {
   "cell_type": "code",
   "execution_count": 64,
   "id": "1bc93be8",
   "metadata": {},
   "outputs": [
    {
     "data": {
      "text/plain": [
       "[9, 5, 4, 2, 1]"
      ]
     },
     "execution_count": 64,
     "metadata": {},
     "output_type": "execute_result"
    }
   ],
   "source": [
    "num_list"
   ]
  },
  {
   "cell_type": "code",
   "execution_count": 65,
   "id": "7e050acb",
   "metadata": {},
   "outputs": [
    {
     "data": {
      "text/plain": [
       "[1, 2, 4, 5, 9]"
      ]
     },
     "execution_count": 65,
     "metadata": {},
     "output_type": "execute_result"
    }
   ],
   "source": [
    "num_list[::-1]"
   ]
  },
  {
   "cell_type": "code",
   "execution_count": null,
   "id": "c876eb6a",
   "metadata": {},
   "outputs": [],
   "source": []
  }
 ],
 "metadata": {
  "kernelspec": {
   "display_name": "Python 3",
   "language": "python",
   "name": "python3"
  },
  "language_info": {
   "codemirror_mode": {
    "name": "ipython",
    "version": 3
   },
   "file_extension": ".py",
   "mimetype": "text/x-python",
   "name": "python",
   "nbconvert_exporter": "python",
   "pygments_lexer": "ipython3",
   "version": "3.8.8"
  }
 },
 "nbformat": 4,
 "nbformat_minor": 5
}
