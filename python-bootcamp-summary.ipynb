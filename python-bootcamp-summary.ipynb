{
 "cells": [
  {
   "cell_type": "markdown",
   "id": "4e3dfb27",
   "metadata": {},
   "source": [
    "# Python Bootcamp Summary"
   ]
  },
  {
   "cell_type": "markdown",
   "id": "f2c7c0cb",
   "metadata": {},
   "source": [
    "## Get the type of an variable: `type(1)`"
   ]
  },
  {
   "cell_type": "code",
   "execution_count": 1,
   "id": "ae4357a5",
   "metadata": {},
   "outputs": [
    {
     "data": {
      "text/plain": [
       "int"
      ]
     },
     "execution_count": 1,
     "metadata": {},
     "output_type": "execute_result"
    }
   ],
   "source": [
    "type(1)"
   ]
  },
  {
   "cell_type": "code",
   "execution_count": 6,
   "id": "b347a27c",
   "metadata": {},
   "outputs": [
    {
     "data": {
      "text/plain": [
       "float"
      ]
     },
     "execution_count": 6,
     "metadata": {},
     "output_type": "execute_result"
    }
   ],
   "source": [
    "type(1.2)"
   ]
  },
  {
   "cell_type": "code",
   "execution_count": 3,
   "id": "b3bb12ce",
   "metadata": {},
   "outputs": [
    {
     "data": {
      "text/plain": [
       "str"
      ]
     },
     "execution_count": 3,
     "metadata": {},
     "output_type": "execute_result"
    }
   ],
   "source": [
    "type('hello')"
   ]
  },
  {
   "cell_type": "code",
   "execution_count": 4,
   "id": "94aa3ead",
   "metadata": {
    "scrolled": true
   },
   "outputs": [
    {
     "data": {
      "text/plain": [
       "list"
      ]
     },
     "execution_count": 4,
     "metadata": {},
     "output_type": "execute_result"
    }
   ],
   "source": [
    "type([])"
   ]
  },
  {
   "cell_type": "code",
   "execution_count": 51,
   "id": "2a6b1952",
   "metadata": {},
   "outputs": [
    {
     "data": {
      "text/plain": [
       "NoneType"
      ]
     },
     "execution_count": 51,
     "metadata": {},
     "output_type": "execute_result"
    }
   ],
   "source": [
    "type(None)"
   ]
  },
  {
   "cell_type": "markdown",
   "id": "e6b1d697",
   "metadata": {},
   "source": [
    "## Strings are immutable"
   ]
  },
  {
   "cell_type": "code",
   "execution_count": 11,
   "id": "37ab413b",
   "metadata": {},
   "outputs": [
    {
     "data": {
      "text/plain": [
       "'Pam'"
      ]
     },
     "execution_count": 11,
     "metadata": {},
     "output_type": "execute_result"
    }
   ],
   "source": [
    "# 'Sam'[0] = 'P' => Error\n",
    "'P' + 'Sam'[1:]"
   ]
  },
  {
   "cell_type": "markdown",
   "id": "b6a38e7b",
   "metadata": {},
   "source": [
    "## String indexing and slicing: `my_string[1:-1:2]`"
   ]
  },
  {
   "cell_type": "code",
   "execution_count": 1,
   "id": "affdcdcb",
   "metadata": {},
   "outputs": [
    {
     "data": {
      "text/plain": [
       "'d'"
      ]
     },
     "execution_count": 1,
     "metadata": {},
     "output_type": "execute_result"
    }
   ],
   "source": [
    "'abcdefg'[3]"
   ]
  },
  {
   "cell_type": "code",
   "execution_count": 8,
   "id": "f496fdcb",
   "metadata": {},
   "outputs": [
    {
     "data": {
      "text/plain": [
       "'bdfhj'"
      ]
     },
     "execution_count": 8,
     "metadata": {},
     "output_type": "execute_result"
    }
   ],
   "source": [
    "'abcdefghijkl'[1:-1:2]"
   ]
  },
  {
   "cell_type": "markdown",
   "id": "833988cb",
   "metadata": {},
   "source": [
    "## Reverse a string: `'hello'[::-1]`"
   ]
  },
  {
   "cell_type": "code",
   "execution_count": 7,
   "id": "c578ebf6",
   "metadata": {},
   "outputs": [
    {
     "data": {
      "text/plain": [
       "'olleh'"
      ]
     },
     "execution_count": 7,
     "metadata": {},
     "output_type": "execute_result"
    }
   ],
   "source": [
    "'hello'[::-1]"
   ]
  },
  {
   "cell_type": "markdown",
   "id": "e397c0f9",
   "metadata": {},
   "source": [
    "## Get the length of an string: `len('hello')`"
   ]
  },
  {
   "cell_type": "code",
   "execution_count": 5,
   "id": "c994090b",
   "metadata": {},
   "outputs": [
    {
     "data": {
      "text/plain": [
       "11"
      ]
     },
     "execution_count": 5,
     "metadata": {},
     "output_type": "execute_result"
    }
   ],
   "source": [
    "len('hello world')"
   ]
  },
  {
   "cell_type": "markdown",
   "id": "39e34129",
   "metadata": {},
   "source": [
    "## Print to console: `print('Hello World')`"
   ]
  },
  {
   "cell_type": "code",
   "execution_count": 1,
   "id": "e04d658d",
   "metadata": {},
   "outputs": [
    {
     "name": "stdout",
     "output_type": "stream",
     "text": [
      "Hello World\n"
     ]
    }
   ],
   "source": [
    "print('Hello World')"
   ]
  },
  {
   "cell_type": "markdown",
   "id": "b47cee07",
   "metadata": {},
   "source": [
    "## String formatting: `'{}'.format('')`"
   ]
  },
  {
   "cell_type": "code",
   "execution_count": 3,
   "id": "53e1023b",
   "metadata": {},
   "outputs": [
    {
     "name": "stdout",
     "output_type": "stream",
     "text": [
      "The quick brown fox, fox\n"
     ]
    }
   ],
   "source": [
    "print('The {2} {1} {0}, {0}'.format('fox', 'brown', 'quick'))"
   ]
  },
  {
   "cell_type": "code",
   "execution_count": 5,
   "id": "d2dec804",
   "metadata": {},
   "outputs": [
    {
     "name": "stdout",
     "output_type": "stream",
     "text": [
      "The quick brown fox, fox\n"
     ]
    }
   ],
   "source": [
    "print('The {q} {b} {f}, {f}'.format(f='fox', b='brown', q='quick'))"
   ]
  },
  {
   "cell_type": "markdown",
   "id": "91d5bc1c",
   "metadata": {},
   "source": [
    "## Float formatting `{value:width.percicision f}`"
   ]
  },
  {
   "cell_type": "code",
   "execution_count": 14,
   "id": "881c8e46",
   "metadata": {},
   "outputs": [
    {
     "name": "stdout",
     "output_type": "stream",
     "text": [
      "the result was 222.129\n"
     ]
    }
   ],
   "source": [
    "result = (100/777) + 222\n",
    "print('the result was {r:.3f}'.format(r=result))"
   ]
  },
  {
   "cell_type": "markdown",
   "id": "2e15aa27",
   "metadata": {},
   "source": [
    "## String formatting: `f'{}'`"
   ]
  },
  {
   "cell_type": "code",
   "execution_count": 16,
   "id": "88fc3c40",
   "metadata": {},
   "outputs": [
    {
     "name": "stdout",
     "output_type": "stream",
     "text": [
      "Hello, this is Fox\n"
     ]
    }
   ],
   "source": [
    "name = 'Fox'\n",
    "print(f'Hello, this is {name}')"
   ]
  },
  {
   "cell_type": "code",
   "execution_count": 20,
   "id": "49f1eb13",
   "metadata": {},
   "outputs": [
    {
     "name": "stdout",
     "output_type": "stream",
     "text": [
      "The value is 345.12\n"
     ]
    }
   ],
   "source": [
    "num = 345.1234993073930\n",
    "print(f'The value is {num:.2f}')"
   ]
  },
  {
   "cell_type": "markdown",
   "id": "678c8953",
   "metadata": {},
   "source": [
    "## Lists `[1, 'two']`"
   ]
  },
  {
   "cell_type": "code",
   "execution_count": 23,
   "id": "bb59d570",
   "metadata": {},
   "outputs": [],
   "source": [
    "my_list = [1, 'two']"
   ]
  },
  {
   "cell_type": "code",
   "execution_count": 100,
   "id": "3fea0acc",
   "metadata": {},
   "outputs": [
    {
     "data": {
      "text/plain": [
       "[0, 0, 0, 0, 0, 0, 0, 0, 0, 0, 0]"
      ]
     },
     "execution_count": 100,
     "metadata": {},
     "output_type": "execute_result"
    }
   ],
   "source": [
    "[0] * 11"
   ]
  },
  {
   "cell_type": "markdown",
   "id": "b821cec3",
   "metadata": {},
   "source": [
    "### Get list size: `len([1,2])`"
   ]
  },
  {
   "cell_type": "code",
   "execution_count": 24,
   "id": "774ec6ef",
   "metadata": {},
   "outputs": [
    {
     "data": {
      "text/plain": [
       "2"
      ]
     },
     "execution_count": 24,
     "metadata": {},
     "output_type": "execute_result"
    }
   ],
   "source": [
    "len([1, 'two'])"
   ]
  },
  {
   "cell_type": "markdown",
   "id": "a5a48c8b",
   "metadata": {},
   "source": [
    "### List access and slicing: `<list>[1:]`"
   ]
  },
  {
   "cell_type": "code",
   "execution_count": 58,
   "id": "1ed72f57",
   "metadata": {},
   "outputs": [
    {
     "data": {
      "text/plain": [
       "'arm'"
      ]
     },
     "execution_count": 58,
     "metadata": {},
     "output_type": "execute_result"
    }
   ],
   "source": [
    "['hand', 'foot', 'arm'][2]"
   ]
  },
  {
   "cell_type": "code",
   "execution_count": 37,
   "id": "25c1fb4b",
   "metadata": {},
   "outputs": [
    {
     "data": {
      "text/plain": [
       "['three', 'four', 'five']"
      ]
     },
     "execution_count": 37,
     "metadata": {},
     "output_type": "execute_result"
    }
   ],
   "source": [
    "['one', 'two', 'three', 'four', 'five'][2:]"
   ]
  },
  {
   "cell_type": "markdown",
   "id": "9d3441f5",
   "metadata": {},
   "source": [
    "### List concatenation: `[1,2] + [3, 4]`"
   ]
  },
  {
   "cell_type": "code",
   "execution_count": 35,
   "id": "c5df734e",
   "metadata": {},
   "outputs": [
    {
     "data": {
      "text/plain": [
       "'five'"
      ]
     },
     "execution_count": 35,
     "metadata": {},
     "output_type": "execute_result"
    }
   ],
   "source": [
    "my_list = ['one', 'two', 'three'] + ['four', 'five']\n",
    "my_list[4]"
   ]
  },
  {
   "cell_type": "markdown",
   "id": "1dd14be7",
   "metadata": {},
   "source": [
    "### Mutate a list: `list[idx] = <new value>`"
   ]
  },
  {
   "cell_type": "code",
   "execution_count": 39,
   "id": "4f1950c9",
   "metadata": {},
   "outputs": [
    {
     "data": {
      "text/plain": [
       "['CHANGED', 'two', 'three', 'four', 'five']"
      ]
     },
     "execution_count": 39,
     "metadata": {},
     "output_type": "execute_result"
    }
   ],
   "source": [
    "my_list = ['one', 'two', 'three', 'four', 'five']\n",
    "my_list[0] = 'CHANGED'\n",
    "my_list"
   ]
  },
  {
   "cell_type": "markdown",
   "id": "d1056a93",
   "metadata": {},
   "source": [
    "### List functions: `[].<function>()`"
   ]
  },
  {
   "cell_type": "code",
   "execution_count": 41,
   "id": "d857353a",
   "metadata": {},
   "outputs": [],
   "source": [
    "my_list = ['one', 'two', 'three', 'four', 'five']"
   ]
  },
  {
   "cell_type": "markdown",
   "id": "f9950632",
   "metadata": {},
   "source": [
    "`[].append(<item>)` append item to list"
   ]
  },
  {
   "cell_type": "code",
   "execution_count": 42,
   "id": "0cfbf04a",
   "metadata": {},
   "outputs": [],
   "source": [
    "my_list.append('six')"
   ]
  },
  {
   "cell_type": "code",
   "execution_count": 43,
   "id": "0cd080a4",
   "metadata": {},
   "outputs": [
    {
     "data": {
      "text/plain": [
       "['one', 'two', 'three', 'four', 'five', 'six']"
      ]
     },
     "execution_count": 43,
     "metadata": {},
     "output_type": "execute_result"
    }
   ],
   "source": [
    "my_list"
   ]
  },
  {
   "cell_type": "markdown",
   "id": "6acaffbb",
   "metadata": {},
   "source": [
    "`[].pop()` pops last and returns the item"
   ]
  },
  {
   "cell_type": "code",
   "execution_count": 44,
   "id": "f5f23e59",
   "metadata": {},
   "outputs": [
    {
     "data": {
      "text/plain": [
       "'six'"
      ]
     },
     "execution_count": 44,
     "metadata": {},
     "output_type": "execute_result"
    }
   ],
   "source": [
    "my_list.pop()"
   ]
  },
  {
   "cell_type": "code",
   "execution_count": 45,
   "id": "aa378cbb",
   "metadata": {},
   "outputs": [
    {
     "data": {
      "text/plain": [
       "['one', 'two', 'three', 'four', 'five']"
      ]
     },
     "execution_count": 45,
     "metadata": {},
     "output_type": "execute_result"
    }
   ],
   "source": [
    "my_list"
   ]
  },
  {
   "cell_type": "markdown",
   "id": "f6517ee3",
   "metadata": {},
   "source": [
    "`[].pop(<idx>)` pops the item at the index and returns the item"
   ]
  },
  {
   "cell_type": "code",
   "execution_count": 46,
   "id": "8dcce96d",
   "metadata": {},
   "outputs": [
    {
     "data": {
      "text/plain": [
       "'one'"
      ]
     },
     "execution_count": 46,
     "metadata": {},
     "output_type": "execute_result"
    }
   ],
   "source": [
    "my_list.pop(0)"
   ]
  },
  {
   "cell_type": "code",
   "execution_count": 47,
   "id": "88399845",
   "metadata": {},
   "outputs": [
    {
     "data": {
      "text/plain": [
       "['two', 'three', 'four', 'five']"
      ]
     },
     "execution_count": 47,
     "metadata": {},
     "output_type": "execute_result"
    }
   ],
   "source": [
    "my_list"
   ]
  },
  {
   "cell_type": "code",
   "execution_count": 59,
   "id": "7d8cbc61",
   "metadata": {},
   "outputs": [],
   "source": [
    "num_list = [4, 9, 2, 5, 1]"
   ]
  },
  {
   "cell_type": "markdown",
   "id": "55a35527",
   "metadata": {},
   "source": [
    "`[].sort()` sorts the list **in place**"
   ]
  },
  {
   "cell_type": "code",
   "execution_count": 60,
   "id": "c2c71012",
   "metadata": {},
   "outputs": [],
   "source": [
    "num_list.sort()"
   ]
  },
  {
   "cell_type": "code",
   "execution_count": 61,
   "id": "b5f700d7",
   "metadata": {},
   "outputs": [
    {
     "data": {
      "text/plain": [
       "[1, 2, 4, 5, 9]"
      ]
     },
     "execution_count": 61,
     "metadata": {},
     "output_type": "execute_result"
    }
   ],
   "source": [
    "num_list"
   ]
  },
  {
   "cell_type": "markdown",
   "id": "3f098303",
   "metadata": {},
   "source": [
    "**The function `sorted(<list>)` does not sort the list in place, but returns a new sorted list.**"
   ]
  },
  {
   "cell_type": "code",
   "execution_count": 101,
   "id": "9c35afe9",
   "metadata": {},
   "outputs": [
    {
     "data": {
      "text/plain": [
       "[-29, -1, 0, 1, 4, 25]"
      ]
     },
     "execution_count": 101,
     "metadata": {},
     "output_type": "execute_result"
    }
   ],
   "source": [
    "sorted([0, -1, -29, 25, 1, 4])"
   ]
  },
  {
   "cell_type": "markdown",
   "id": "90b7969b",
   "metadata": {},
   "source": [
    "`[].reverse()` reverses a list in place"
   ]
  },
  {
   "cell_type": "code",
   "execution_count": 63,
   "id": "5755e753",
   "metadata": {},
   "outputs": [],
   "source": [
    "num_list.reverse()"
   ]
  },
  {
   "cell_type": "code",
   "execution_count": 64,
   "id": "1bc93be8",
   "metadata": {},
   "outputs": [
    {
     "data": {
      "text/plain": [
       "[9, 5, 4, 2, 1]"
      ]
     },
     "execution_count": 64,
     "metadata": {},
     "output_type": "execute_result"
    }
   ],
   "source": [
    "num_list"
   ]
  },
  {
   "cell_type": "code",
   "execution_count": 65,
   "id": "7e050acb",
   "metadata": {},
   "outputs": [
    {
     "data": {
      "text/plain": [
       "[1, 2, 4, 5, 9]"
      ]
     },
     "execution_count": 65,
     "metadata": {},
     "output_type": "execute_result"
    }
   ],
   "source": [
    "num_list[::-1]"
   ]
  },
  {
   "cell_type": "markdown",
   "id": "0f0de52c",
   "metadata": {},
   "source": [
    "## Dictionaries\n",
    "Dictionaries are mutable, values may be changed, added or removed."
   ]
  },
  {
   "cell_type": "code",
   "execution_count": 12,
   "id": "ba13b130",
   "metadata": {},
   "outputs": [],
   "source": [
    "prices_lookup = {'apple': 1.59, 'orange': 1.29, 'peach': 2.49}"
   ]
  },
  {
   "cell_type": "code",
   "execution_count": 14,
   "id": "efa33d5f",
   "metadata": {},
   "outputs": [
    {
     "data": {
      "text/plain": [
       "{'apple': 1.59, 'orange': 1.29, 'peach': 2.49}"
      ]
     },
     "execution_count": 14,
     "metadata": {},
     "output_type": "execute_result"
    }
   ],
   "source": [
    "prices_lookup"
   ]
  },
  {
   "cell_type": "code",
   "execution_count": 15,
   "id": "73bdc308",
   "metadata": {},
   "outputs": [
    {
     "data": {
      "text/plain": [
       "1.29"
      ]
     },
     "execution_count": 15,
     "metadata": {},
     "output_type": "execute_result"
    }
   ],
   "source": [
    "prices_lookup['orange']"
   ]
  },
  {
   "cell_type": "markdown",
   "id": "d4aea1b9",
   "metadata": {},
   "source": [
    "Add a key `dict[<key>] = <value>`"
   ]
  },
  {
   "cell_type": "code",
   "execution_count": 17,
   "id": "da1a4099",
   "metadata": {},
   "outputs": [],
   "source": [
    "prices_lookup['strawberries'] = 2.89"
   ]
  },
  {
   "cell_type": "code",
   "execution_count": 18,
   "id": "a4cf7158",
   "metadata": {},
   "outputs": [
    {
     "data": {
      "text/plain": [
       "{'apple': 1.59, 'orange': 1.29, 'peach': 2.49, 'strawberries': 2.89}"
      ]
     },
     "execution_count": 18,
     "metadata": {},
     "output_type": "execute_result"
    }
   ],
   "source": [
    "prices_lookup"
   ]
  },
  {
   "cell_type": "markdown",
   "id": "60438ad6",
   "metadata": {},
   "source": [
    "List the keys `dict.keys()`"
   ]
  },
  {
   "cell_type": "code",
   "execution_count": 19,
   "id": "5de1faab",
   "metadata": {},
   "outputs": [
    {
     "data": {
      "text/plain": [
       "dict_keys(['apple', 'orange', 'peach', 'strawberries'])"
      ]
     },
     "execution_count": 19,
     "metadata": {},
     "output_type": "execute_result"
    }
   ],
   "source": [
    "prices_lookup.keys()"
   ]
  },
  {
   "cell_type": "markdown",
   "id": "9d9c20e5",
   "metadata": {},
   "source": [
    "List the values `dict.values()`"
   ]
  },
  {
   "cell_type": "code",
   "execution_count": 23,
   "id": "26af5e5d",
   "metadata": {},
   "outputs": [
    {
     "data": {
      "text/plain": [
       "dict_values([1.59, 1.29, 2.49, 2.89])"
      ]
     },
     "execution_count": 23,
     "metadata": {},
     "output_type": "execute_result"
    }
   ],
   "source": [
    "prices_lookup.values()"
   ]
  },
  {
   "cell_type": "markdown",
   "id": "22307ce3",
   "metadata": {},
   "source": [
    "List items as tuples `dict.items()`"
   ]
  },
  {
   "cell_type": "code",
   "execution_count": 29,
   "id": "f6b17486",
   "metadata": {},
   "outputs": [
    {
     "data": {
      "text/plain": [
       "dict_items([('apple', 1.59), ('orange', 1.29), ('peach', 2.49), ('strawberries', 2.89), ('oranges', 1.39)])"
      ]
     },
     "execution_count": 29,
     "metadata": {},
     "output_type": "execute_result"
    }
   ],
   "source": [
    "prices_lookup.items()"
   ]
  },
  {
   "cell_type": "markdown",
   "id": "b9713454",
   "metadata": {},
   "source": [
    "# Tuples\n",
    "Tuples are immutable."
   ]
  },
  {
   "cell_type": "code",
   "execution_count": 34,
   "id": "66e095bc",
   "metadata": {},
   "outputs": [],
   "source": [
    "my_tuple = ('one', 2, 3)"
   ]
  },
  {
   "cell_type": "code",
   "execution_count": 33,
   "id": "bb64edcb",
   "metadata": {},
   "outputs": [
    {
     "data": {
      "text/plain": [
       "3"
      ]
     },
     "execution_count": 33,
     "metadata": {},
     "output_type": "execute_result"
    }
   ],
   "source": [
    "len(my_tuple)"
   ]
  },
  {
   "cell_type": "code",
   "execution_count": 37,
   "id": "5b20858a",
   "metadata": {},
   "outputs": [
    {
     "data": {
      "text/plain": [
       "3"
      ]
     },
     "execution_count": 37,
     "metadata": {},
     "output_type": "execute_result"
    }
   ],
   "source": [
    "my_tuple[-1]"
   ]
  },
  {
   "cell_type": "markdown",
   "id": "936fa82b",
   "metadata": {},
   "source": [
    "Count the occurances of an entry `tuple.count(<value>)`"
   ]
  },
  {
   "cell_type": "code",
   "execution_count": 39,
   "id": "cb2d1450",
   "metadata": {},
   "outputs": [
    {
     "data": {
      "text/plain": [
       "2"
      ]
     },
     "execution_count": 39,
     "metadata": {},
     "output_type": "execute_result"
    }
   ],
   "source": [
    "('1', '1', '2').count('1')"
   ]
  },
  {
   "cell_type": "markdown",
   "id": "ea56f389",
   "metadata": {},
   "source": [
    "Get the index of a value `tuple.index(<value>)`"
   ]
  },
  {
   "cell_type": "code",
   "execution_count": 41,
   "id": "fae057c5",
   "metadata": {},
   "outputs": [
    {
     "data": {
      "text/plain": [
       "1"
      ]
     },
     "execution_count": 41,
     "metadata": {},
     "output_type": "execute_result"
    }
   ],
   "source": [
    "('a', 'b', 'b').index('b')"
   ]
  },
  {
   "cell_type": "markdown",
   "id": "7b5a879e",
   "metadata": {},
   "source": [
    "# Sets"
   ]
  },
  {
   "cell_type": "code",
   "execution_count": 43,
   "id": "96bc4f16",
   "metadata": {},
   "outputs": [],
   "source": [
    "bag = set()"
   ]
  },
  {
   "cell_type": "code",
   "execution_count": 45,
   "id": "3599afa7",
   "metadata": {},
   "outputs": [],
   "source": [
    "bag.add('pillow')"
   ]
  },
  {
   "cell_type": "code",
   "execution_count": 47,
   "id": "a20ab5ef",
   "metadata": {},
   "outputs": [
    {
     "data": {
      "text/plain": [
       "{'pillow'}"
      ]
     },
     "execution_count": 47,
     "metadata": {},
     "output_type": "execute_result"
    }
   ],
   "source": [
    "bag"
   ]
  },
  {
   "cell_type": "markdown",
   "id": "aba11391",
   "metadata": {},
   "source": [
    "Get unique values of a list `set(<list>)`"
   ]
  },
  {
   "cell_type": "code",
   "execution_count": 53,
   "id": "d5adbcd7",
   "metadata": {},
   "outputs": [
    {
     "data": {
      "text/plain": [
       "{1, 2, 3}"
      ]
     },
     "execution_count": 53,
     "metadata": {},
     "output_type": "execute_result"
    }
   ],
   "source": [
    "set([1,1,1,1,1,2,2,2,3,3,3,3])"
   ]
  },
  {
   "cell_type": "code",
   "execution_count": 52,
   "id": "0e0c206f",
   "metadata": {},
   "outputs": [
    {
     "data": {
      "text/plain": [
       "{'M', 'i', 'p', 's'}"
      ]
     },
     "execution_count": 52,
     "metadata": {},
     "output_type": "execute_result"
    }
   ],
   "source": [
    "set('Mississippi')"
   ]
  },
  {
   "cell_type": "markdown",
   "id": "8e17dbc2",
   "metadata": {},
   "source": [
    "# Boolean"
   ]
  },
  {
   "cell_type": "code",
   "execution_count": 56,
   "id": "534aec59",
   "metadata": {},
   "outputs": [
    {
     "data": {
      "text/plain": [
       "True"
      ]
     },
     "execution_count": 56,
     "metadata": {},
     "output_type": "execute_result"
    }
   ],
   "source": [
    "True or False"
   ]
  },
  {
   "cell_type": "code",
   "execution_count": 58,
   "id": "6df1f280",
   "metadata": {},
   "outputs": [
    {
     "data": {
      "text/plain": [
       "bool"
      ]
     },
     "execution_count": 58,
     "metadata": {},
     "output_type": "execute_result"
    }
   ],
   "source": [
    "type(True)"
   ]
  },
  {
   "cell_type": "markdown",
   "id": "e9ab9ac4",
   "metadata": {},
   "source": [
    "# I/O with Basic Files"
   ]
  },
  {
   "cell_type": "code",
   "execution_count": 93,
   "id": "8aa6c421",
   "metadata": {},
   "outputs": [
    {
     "name": "stdout",
     "output_type": "stream",
     "text": [
      "Overwriting myfile.txt\n"
     ]
    }
   ],
   "source": [
    "%%writefile myfile.txt\n",
    "Hello this is a text file\n",
    "this is the second line\n",
    "this is the third line"
   ]
  },
  {
   "cell_type": "code",
   "execution_count": 67,
   "id": "85ab70ae",
   "metadata": {},
   "outputs": [],
   "source": [
    "myfile = open('myfile.txt')"
   ]
  },
  {
   "cell_type": "code",
   "execution_count": 62,
   "id": "de7d4c7a",
   "metadata": {},
   "outputs": [
    {
     "ename": "FileNotFoundError",
     "evalue": "[Errno 2] No such file or directory: 'wrongfile.txt'",
     "output_type": "error",
     "traceback": [
      "\u001b[0;31m---------------------------------------------------------------------------\u001b[0m",
      "\u001b[0;31mFileNotFoundError\u001b[0m                         Traceback (most recent call last)",
      "\u001b[0;32m<ipython-input-62-9acea3a51661>\u001b[0m in \u001b[0;36m<module>\u001b[0;34m\u001b[0m\n\u001b[0;32m----> 1\u001b[0;31m \u001b[0mmyfile\u001b[0m \u001b[0;34m=\u001b[0m \u001b[0mopen\u001b[0m\u001b[0;34m(\u001b[0m\u001b[0;34m'wrongfile.txt'\u001b[0m\u001b[0;34m)\u001b[0m\u001b[0;34m\u001b[0m\u001b[0;34m\u001b[0m\u001b[0m\n\u001b[0m",
      "\u001b[0;31mFileNotFoundError\u001b[0m: [Errno 2] No such file or directory: 'wrongfile.txt'"
     ]
    }
   ],
   "source": [
    "myfile = open('wrongfile.txt')"
   ]
  },
  {
   "cell_type": "code",
   "execution_count": 64,
   "id": "4bb9bde1",
   "metadata": {},
   "outputs": [
    {
     "data": {
      "text/plain": [
       "'/Users/tom/workspace/python-bootcamp'"
      ]
     },
     "execution_count": 64,
     "metadata": {},
     "output_type": "execute_result"
    }
   ],
   "source": [
    "pwd"
   ]
  },
  {
   "cell_type": "code",
   "execution_count": 68,
   "id": "10ad5bf1",
   "metadata": {},
   "outputs": [
    {
     "data": {
      "text/plain": [
       "'Hello this is a text file\\nthis is the second line\\nthis is the third line\\n'"
      ]
     },
     "execution_count": 68,
     "metadata": {},
     "output_type": "execute_result"
    }
   ],
   "source": [
    "myfile.read()"
   ]
  },
  {
   "cell_type": "code",
   "execution_count": 70,
   "id": "d279628c",
   "metadata": {},
   "outputs": [
    {
     "data": {
      "text/plain": [
       "''"
      ]
     },
     "execution_count": 70,
     "metadata": {},
     "output_type": "execute_result"
    }
   ],
   "source": [
    "myfile.read()\n"
   ]
  },
  {
   "cell_type": "markdown",
   "id": "fad5483e",
   "metadata": {},
   "source": [
    "`file.read()` uses a cursor, in order to reset it use `file.seek(0)`"
   ]
  },
  {
   "cell_type": "code",
   "execution_count": 78,
   "id": "5dfaa14c",
   "metadata": {},
   "outputs": [
    {
     "data": {
      "text/plain": [
       "'Hello this is a text file\\nthis is the second line\\nthis is the third line\\n'"
      ]
     },
     "execution_count": 78,
     "metadata": {},
     "output_type": "execute_result"
    }
   ],
   "source": [
    "myfile.seek(0)\n",
    "myfile.read()"
   ]
  },
  {
   "cell_type": "code",
   "execution_count": 77,
   "id": "cf802a78",
   "metadata": {},
   "outputs": [
    {
     "data": {
      "text/plain": [
       "['Hello this is a text file\\n',\n",
       " 'this is the second line\\n',\n",
       " 'this is the third line\\n']"
      ]
     },
     "execution_count": 77,
     "metadata": {},
     "output_type": "execute_result"
    }
   ],
   "source": [
    "myfile.seek(0)\n",
    "myfile.readlines()"
   ]
  },
  {
   "cell_type": "markdown",
   "id": "cdadb986",
   "metadata": {},
   "source": [
    "__Its important to always close a file!__"
   ]
  },
  {
   "cell_type": "code",
   "execution_count": 80,
   "id": "75b0b47b",
   "metadata": {},
   "outputs": [],
   "source": [
    "myfile.close()"
   ]
  },
  {
   "cell_type": "markdown",
   "id": "519e07c8",
   "metadata": {},
   "source": [
    "To avoid using `file.close()`, we can use `with open(<filename>) as file: ...`"
   ]
  },
  {
   "cell_type": "code",
   "execution_count": 96,
   "id": "c584b2b2",
   "metadata": {},
   "outputs": [
    {
     "name": "stdout",
     "output_type": "stream",
     "text": [
      "Hello this is a text file\n",
      "this is the second line\n",
      "this is the third line\n",
      "this is the fourth line\n",
      "\n"
     ]
    }
   ],
   "source": [
    "with open('myfile.txt', mode='r') as f:\n",
    "    contents = f.read()\n",
    "print(contents)"
   ]
  },
  {
   "cell_type": "code",
   "execution_count": 95,
   "id": "e98c35dd",
   "metadata": {},
   "outputs": [],
   "source": [
    "with open('myfile.txt', mode='a') as f:\n",
    "    f.write('this is the fourth line\\n')"
   ]
  },
  {
   "cell_type": "markdown",
   "id": "5803701f",
   "metadata": {},
   "source": [
    "There are different modes available (r, w, a, r+, w+)."
   ]
  },
  {
   "cell_type": "markdown",
   "id": "7f6abef6",
   "metadata": {},
   "source": [
    "# Comparison operators\n",
    "\n",
    "```\n",
    "< <=\n",
    "> >=\n",
    "== !=\n",
    "```"
   ]
  },
  {
   "cell_type": "code",
   "execution_count": 102,
   "id": "b8e07da9",
   "metadata": {},
   "outputs": [
    {
     "data": {
      "text/plain": [
       "True"
      ]
     },
     "execution_count": 102,
     "metadata": {},
     "output_type": "execute_result"
    }
   ],
   "source": [
    "2 < 3 >= 1"
   ]
  },
  {
   "cell_type": "markdown",
   "id": "33ecfee4",
   "metadata": {},
   "source": [
    "# Logical operators\n",
    "or and not"
   ]
  },
  {
   "cell_type": "markdown",
   "id": "b0d3129e",
   "metadata": {},
   "source": [
    "# Conditional statements"
   ]
  },
  {
   "cell_type": "code",
   "execution_count": 106,
   "id": "00975716",
   "metadata": {},
   "outputs": [
    {
     "name": "stdout",
     "output_type": "stream",
     "text": [
      "yes\n"
     ]
    }
   ],
   "source": [
    "if False:\n",
    "    print('no')\n",
    "elif False:\n",
    "    print('nope')\n",
    "else:\n",
    "    print('yes')"
   ]
  },
  {
   "cell_type": "markdown",
   "id": "577deddc",
   "metadata": {},
   "source": [
    "# For loops"
   ]
  },
  {
   "cell_type": "code",
   "execution_count": null,
   "id": "1b9e3b6c",
   "metadata": {},
   "outputs": [],
   "source": []
  }
 ],
 "metadata": {
  "kernelspec": {
   "display_name": "Python 3",
   "language": "python",
   "name": "python3"
  },
  "language_info": {
   "codemirror_mode": {
    "name": "ipython",
    "version": 3
   },
   "file_extension": ".py",
   "mimetype": "text/x-python",
   "name": "python",
   "nbconvert_exporter": "python",
   "pygments_lexer": "ipython3",
   "version": "3.8.8"
  }
 },
 "nbformat": 4,
 "nbformat_minor": 5
}
